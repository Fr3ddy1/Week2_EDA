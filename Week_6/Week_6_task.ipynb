{
 "cells": [
  {
   "cell_type": "markdown",
   "metadata": {},
   "source": [
    "# Week 6: File ingestion and schema validation"
   ]
  },
  {
   "cell_type": "markdown",
   "metadata": {},
   "source": [
    "Steps of the task,\n",
    "\n",
    "* Take any csv/text file of 2+ GB of your choice\n",
    "\n",
    "* Read the file ( Present approach of reading the file )\n",
    "\n",
    "* Try different methods of file reading eg: Dask, Modin, Ray, pandas and present your findings in term of computational efficiency\n",
    "\n",
    "* Perform basic validation on data columns : eg: remove special character , white spaces from the col name\n",
    "\n",
    "* As you already know the schema hence create a YAML file and write the column name in YAML file. --define separator of read and write file, column name in YAML\n",
    "\n",
    "* Validate number of columns and column name of ingested file with YAML.\n",
    "\n",
    "* Write the file in pipe separated text file (|) in gz format.\n",
    "\n",
    "* Create a summary of the file: Total number of rows, total number of columns, file size."
   ]
  },
  {
   "cell_type": "markdown",
   "metadata": {},
   "source": [
    "# 1. READ THE FILE "
   ]
  },
  {
   "cell_type": "markdown",
   "metadata": {},
   "source": [
    "Due to the bad internet connection that it has, it was difficult for me to download a file of more than two gigabytes from the web, for this reason I created a file with these characteristics using R, the final file has eleven columns and 42 million rows , its final weight was 2.7 GB."
   ]
  },
  {
   "cell_type": "code",
   "execution_count": 2,
   "metadata": {},
   "outputs": [],
   "source": [
    "# IMPORT LIBRARY\n",
    "import pandas as pd"
   ]
  },
  {
   "cell_type": "code",
   "execution_count": 3,
   "metadata": {},
   "outputs": [
    {
     "name": "stdout",
     "output_type": "stream",
     "text": [
      "Wall time: 1min 28s\n"
     ]
    }
   ],
   "source": [
    "%%time\n",
    "#READ THE FILE IN THE USUAL WAY\n",
    "data = pd.read_csv('DATA.csv')"
   ]
  },
  {
   "cell_type": "code",
   "execution_count": 4,
   "metadata": {},
   "outputs": [
    {
     "data": {
      "text/plain": [
       "(42000000, 11)"
      ]
     },
     "execution_count": 4,
     "metadata": {},
     "output_type": "execute_result"
    }
   ],
   "source": [
    "#DIMESION\n",
    "data.shape"
   ]
  },
  {
   "cell_type": "code",
   "execution_count": 5,
   "metadata": {},
   "outputs": [
    {
     "data": {
      "text/html": [
       "<div>\n",
       "<style scoped>\n",
       "    .dataframe tbody tr th:only-of-type {\n",
       "        vertical-align: middle;\n",
       "    }\n",
       "\n",
       "    .dataframe tbody tr th {\n",
       "        vertical-align: top;\n",
       "    }\n",
       "\n",
       "    .dataframe thead th {\n",
       "        text-align: right;\n",
       "    }\n",
       "</style>\n",
       "<table border=\"1\" class=\"dataframe\">\n",
       "  <thead>\n",
       "    <tr style=\"text-align: right;\">\n",
       "      <th></th>\n",
       "      <th>ID</th>\n",
       "      <th>AGE</th>\n",
       "      <th>CITY</th>\n",
       "      <th>GENDER</th>\n",
       "      <th>MARITAL STATUS</th>\n",
       "      <th>SALARY</th>\n",
       "      <th>OTHER INCOMES</th>\n",
       "      <th>RENT</th>\n",
       "      <th>FOOD</th>\n",
       "      <th>EDUCATION</th>\n",
       "      <th>DEFAULT</th>\n",
       "    </tr>\n",
       "  </thead>\n",
       "  <tbody>\n",
       "    <tr>\n",
       "      <th>0</th>\n",
       "      <td>1</td>\n",
       "      <td>23</td>\n",
       "      <td>TRUJILLO</td>\n",
       "      <td>FEMALE</td>\n",
       "      <td>SEPARATED</td>\n",
       "      <td>12119</td>\n",
       "      <td>250</td>\n",
       "      <td>274</td>\n",
       "      <td>117</td>\n",
       "      <td>190</td>\n",
       "      <td>1</td>\n",
       "    </tr>\n",
       "    <tr>\n",
       "      <th>1</th>\n",
       "      <td>2</td>\n",
       "      <td>45</td>\n",
       "      <td>VALENCIA</td>\n",
       "      <td>FEMALE</td>\n",
       "      <td>MARIED</td>\n",
       "      <td>1610</td>\n",
       "      <td>239</td>\n",
       "      <td>641</td>\n",
       "      <td>584</td>\n",
       "      <td>403</td>\n",
       "      <td>0</td>\n",
       "    </tr>\n",
       "    <tr>\n",
       "      <th>2</th>\n",
       "      <td>3</td>\n",
       "      <td>19</td>\n",
       "      <td>MARACAIBO</td>\n",
       "      <td>FEMALE</td>\n",
       "      <td>ENGAGED</td>\n",
       "      <td>3246</td>\n",
       "      <td>364</td>\n",
       "      <td>412</td>\n",
       "      <td>556</td>\n",
       "      <td>686</td>\n",
       "      <td>1</td>\n",
       "    </tr>\n",
       "    <tr>\n",
       "      <th>3</th>\n",
       "      <td>4</td>\n",
       "      <td>20</td>\n",
       "      <td>TRUJILLO</td>\n",
       "      <td>FEMALE</td>\n",
       "      <td>WIDOWED</td>\n",
       "      <td>14962</td>\n",
       "      <td>1957</td>\n",
       "      <td>787</td>\n",
       "      <td>458</td>\n",
       "      <td>724</td>\n",
       "      <td>0</td>\n",
       "    </tr>\n",
       "    <tr>\n",
       "      <th>4</th>\n",
       "      <td>5</td>\n",
       "      <td>44</td>\n",
       "      <td>MARACAIBO</td>\n",
       "      <td>MALE</td>\n",
       "      <td>DIVORCED</td>\n",
       "      <td>16032</td>\n",
       "      <td>546</td>\n",
       "      <td>799</td>\n",
       "      <td>647</td>\n",
       "      <td>636</td>\n",
       "      <td>0</td>\n",
       "    </tr>\n",
       "  </tbody>\n",
       "</table>\n",
       "</div>"
      ],
      "text/plain": [
       "   ID  AGE       CITY  GENDER MARITAL STATUS  SALARY  OTHER INCOMES  RENT  \\\n",
       "0   1   23   TRUJILLO  FEMALE      SEPARATED   12119            250   274   \n",
       "1   2   45   VALENCIA  FEMALE         MARIED    1610            239   641   \n",
       "2   3   19  MARACAIBO  FEMALE        ENGAGED    3246            364   412   \n",
       "3   4   20   TRUJILLO  FEMALE        WIDOWED   14962           1957   787   \n",
       "4   5   44  MARACAIBO    MALE       DIVORCED   16032            546   799   \n",
       "\n",
       "   FOOD  EDUCATION  DEFAULT  \n",
       "0   117        190        1  \n",
       "1   584        403        0  \n",
       "2   556        686        1  \n",
       "3   458        724        0  \n",
       "4   647        636        0  "
      ]
     },
     "execution_count": 5,
     "metadata": {},
     "output_type": "execute_result"
    }
   ],
   "source": [
    "#HEAD\n",
    "data.head()"
   ]
  },
  {
   "cell_type": "markdown",
   "metadata": {},
   "source": [
    "# READ THE FILE WITH DASK"
   ]
  },
  {
   "cell_type": "code",
   "execution_count": 6,
   "metadata": {},
   "outputs": [],
   "source": [
    "import dask.dataframe as dd"
   ]
  },
  {
   "cell_type": "code",
   "execution_count": 8,
   "metadata": {},
   "outputs": [
    {
     "name": "stdout",
     "output_type": "stream",
     "text": [
      "Wall time: 112 ms\n"
     ]
    }
   ],
   "source": [
    "%%time\n",
    "#READ THE FILE WITH DASK\n",
    "df = dd.read_csv('DATA.csv')"
   ]
  },
  {
   "cell_type": "code",
   "execution_count": 9,
   "metadata": {},
   "outputs": [
    {
     "data": {
      "text/plain": [
       "((Delayed('int-5e664c04-2bc9-4dc7-b534-1cfc75c51119'), 11),\n",
       " Dask DataFrame Structure:\n",
       "                    ID    AGE    CITY  GENDER MARITAL STATUS SALARY OTHER INCOMES   RENT   FOOD EDUCATION DEFAULT\n",
       " npartitions=44                                                                                                  \n",
       "                 int64  int64  object  object         object  int64         int64  int64  int64     int64   int64\n",
       "                   ...    ...     ...     ...            ...    ...           ...    ...    ...       ...     ...\n",
       " ...               ...    ...     ...     ...            ...    ...           ...    ...    ...       ...     ...\n",
       "                   ...    ...     ...     ...            ...    ...           ...    ...    ...       ...     ...\n",
       "                   ...    ...     ...     ...            ...    ...           ...    ...    ...       ...     ...\n",
       " Dask Name: read-csv, 44 tasks)"
      ]
     },
     "execution_count": 9,
     "metadata": {},
     "output_type": "execute_result"
    }
   ],
   "source": [
    "#SHAPE\n",
    "df.shape, df"
   ]
  },
  {
   "cell_type": "code",
   "execution_count": 10,
   "metadata": {},
   "outputs": [
    {
     "data": {
      "text/html": [
       "<div>\n",
       "<style scoped>\n",
       "    .dataframe tbody tr th:only-of-type {\n",
       "        vertical-align: middle;\n",
       "    }\n",
       "\n",
       "    .dataframe tbody tr th {\n",
       "        vertical-align: top;\n",
       "    }\n",
       "\n",
       "    .dataframe thead th {\n",
       "        text-align: right;\n",
       "    }\n",
       "</style>\n",
       "<table border=\"1\" class=\"dataframe\">\n",
       "  <thead>\n",
       "    <tr style=\"text-align: right;\">\n",
       "      <th></th>\n",
       "      <th>ID</th>\n",
       "      <th>AGE</th>\n",
       "      <th>CITY</th>\n",
       "      <th>GENDER</th>\n",
       "      <th>MARITAL STATUS</th>\n",
       "      <th>SALARY</th>\n",
       "      <th>OTHER INCOMES</th>\n",
       "      <th>RENT</th>\n",
       "      <th>FOOD</th>\n",
       "      <th>EDUCATION</th>\n",
       "      <th>DEFAULT</th>\n",
       "    </tr>\n",
       "  </thead>\n",
       "  <tbody>\n",
       "    <tr>\n",
       "      <th>0</th>\n",
       "      <td>1</td>\n",
       "      <td>23</td>\n",
       "      <td>TRUJILLO</td>\n",
       "      <td>FEMALE</td>\n",
       "      <td>SEPARATED</td>\n",
       "      <td>12119</td>\n",
       "      <td>250</td>\n",
       "      <td>274</td>\n",
       "      <td>117</td>\n",
       "      <td>190</td>\n",
       "      <td>1</td>\n",
       "    </tr>\n",
       "    <tr>\n",
       "      <th>1</th>\n",
       "      <td>2</td>\n",
       "      <td>45</td>\n",
       "      <td>VALENCIA</td>\n",
       "      <td>FEMALE</td>\n",
       "      <td>MARIED</td>\n",
       "      <td>1610</td>\n",
       "      <td>239</td>\n",
       "      <td>641</td>\n",
       "      <td>584</td>\n",
       "      <td>403</td>\n",
       "      <td>0</td>\n",
       "    </tr>\n",
       "    <tr>\n",
       "      <th>2</th>\n",
       "      <td>3</td>\n",
       "      <td>19</td>\n",
       "      <td>MARACAIBO</td>\n",
       "      <td>FEMALE</td>\n",
       "      <td>ENGAGED</td>\n",
       "      <td>3246</td>\n",
       "      <td>364</td>\n",
       "      <td>412</td>\n",
       "      <td>556</td>\n",
       "      <td>686</td>\n",
       "      <td>1</td>\n",
       "    </tr>\n",
       "    <tr>\n",
       "      <th>3</th>\n",
       "      <td>4</td>\n",
       "      <td>20</td>\n",
       "      <td>TRUJILLO</td>\n",
       "      <td>FEMALE</td>\n",
       "      <td>WIDOWED</td>\n",
       "      <td>14962</td>\n",
       "      <td>1957</td>\n",
       "      <td>787</td>\n",
       "      <td>458</td>\n",
       "      <td>724</td>\n",
       "      <td>0</td>\n",
       "    </tr>\n",
       "    <tr>\n",
       "      <th>4</th>\n",
       "      <td>5</td>\n",
       "      <td>44</td>\n",
       "      <td>MARACAIBO</td>\n",
       "      <td>MALE</td>\n",
       "      <td>DIVORCED</td>\n",
       "      <td>16032</td>\n",
       "      <td>546</td>\n",
       "      <td>799</td>\n",
       "      <td>647</td>\n",
       "      <td>636</td>\n",
       "      <td>0</td>\n",
       "    </tr>\n",
       "  </tbody>\n",
       "</table>\n",
       "</div>"
      ],
      "text/plain": [
       "   ID  AGE       CITY  GENDER MARITAL STATUS  SALARY  OTHER INCOMES  RENT  \\\n",
       "0   1   23   TRUJILLO  FEMALE      SEPARATED   12119            250   274   \n",
       "1   2   45   VALENCIA  FEMALE         MARIED    1610            239   641   \n",
       "2   3   19  MARACAIBO  FEMALE        ENGAGED    3246            364   412   \n",
       "3   4   20   TRUJILLO  FEMALE        WIDOWED   14962           1957   787   \n",
       "4   5   44  MARACAIBO    MALE       DIVORCED   16032            546   799   \n",
       "\n",
       "   FOOD  EDUCATION  DEFAULT  \n",
       "0   117        190        1  \n",
       "1   584        403        0  \n",
       "2   556        686        1  \n",
       "3   458        724        0  \n",
       "4   647        636        0  "
      ]
     },
     "execution_count": 10,
     "metadata": {},
     "output_type": "execute_result"
    }
   ],
   "source": [
    "#HEAD\n",
    "df.head()"
   ]
  },
  {
   "cell_type": "markdown",
   "metadata": {},
   "source": [
    "As we can see in the reading time Dask is the best reading option if we compare the normal reading of pandas and this package."
   ]
  },
  {
   "cell_type": "markdown",
   "metadata": {},
   "source": [
    "# Simple calculations by grouping"
   ]
  },
  {
   "cell_type": "code",
   "execution_count": 11,
   "metadata": {},
   "outputs": [
    {
     "name": "stdout",
     "output_type": "stream",
     "text": [
      "Wall time: 7.31 s\n"
     ]
    },
    {
     "data": {
      "text/plain": [
       "CITY\n",
       "BARINAS          549.850257\n",
       "BARQUISIMETO     549.857732\n",
       "CARACAS          550.155036\n",
       "CUMANA           549.703094\n",
       "MARACAIBO        550.009639\n",
       "MERIDA           550.111520\n",
       "SAN CRISTOBAL    550.006832\n",
       "TRUJILLO         549.969235\n",
       "TUCUPITA         550.052079\n",
       "VALENCIA         549.812087\n",
       "Name: RENT, dtype: float64"
      ]
     },
     "execution_count": 11,
     "metadata": {},
     "output_type": "execute_result"
    }
   ],
   "source": [
    "%%time\n",
    "#USUAL WAY\n",
    "data.groupby('CITY').RENT.mean()"
   ]
  },
  {
   "cell_type": "code",
   "execution_count": 12,
   "metadata": {},
   "outputs": [
    {
     "name": "stdout",
     "output_type": "stream",
     "text": [
      "Wall time: 1min 10s\n"
     ]
    },
    {
     "data": {
      "text/plain": [
       "CITY\n",
       "BARINAS          549.850257\n",
       "BARQUISIMETO     549.857732\n",
       "CARACAS          550.155036\n",
       "CUMANA           549.703094\n",
       "MARACAIBO        550.009639\n",
       "MERIDA           550.111520\n",
       "SAN CRISTOBAL    550.006832\n",
       "TRUJILLO         549.969235\n",
       "TUCUPITA         550.052079\n",
       "VALENCIA         549.812087\n",
       "Name: RENT, dtype: float64"
      ]
     },
     "execution_count": 12,
     "metadata": {},
     "output_type": "execute_result"
    }
   ],
   "source": [
    "%%time\n",
    "#USING DASK\n",
    "df.groupby('CITY').RENT.mean().compute()"
   ]
  },
  {
   "cell_type": "markdown",
   "metadata": {},
   "source": [
    "# MODIN EXAMPLES"
   ]
  },
  {
   "cell_type": "code",
   "execution_count": 1,
   "metadata": {},
   "outputs": [],
   "source": [
    "#IMPORT LIBRARIES\n",
    "import os\n",
    "os.environ[\"MODIN_ENGINE\"] = \"dask\"  # Modin will use Dask\n",
    "\n",
    "import modin.pandas as pd\n",
    "#READ\n",
    "from distributed import Client\n",
    "\n",
    "client = Client()"
   ]
  },
  {
   "cell_type": "code",
   "execution_count": 2,
   "metadata": {},
   "outputs": [
    {
     "name": "stdout",
     "output_type": "stream",
     "text": [
      "Wall time: 2min 14s\n"
     ]
    }
   ],
   "source": [
    "%%time\n",
    "df = pd.read_csv(\"DATA.csv\")"
   ]
  },
  {
   "cell_type": "code",
   "execution_count": 3,
   "metadata": {},
   "outputs": [
    {
     "data": {
      "text/html": [
       "<div>\n",
       "<style scoped>\n",
       "    .dataframe tbody tr th:only-of-type {\n",
       "        vertical-align: middle;\n",
       "    }\n",
       "\n",
       "    .dataframe tbody tr th {\n",
       "        vertical-align: top;\n",
       "    }\n",
       "\n",
       "    .dataframe thead th {\n",
       "        text-align: right;\n",
       "    }\n",
       "</style>\n",
       "<table border=\"1\" class=\"dataframe\">\n",
       "  <thead>\n",
       "    <tr style=\"text-align: right;\">\n",
       "      <th></th>\n",
       "      <th>ID</th>\n",
       "      <th>AGE</th>\n",
       "      <th>CITY</th>\n",
       "      <th>GENDER</th>\n",
       "      <th>MARITAL STATUS</th>\n",
       "      <th>SALARY</th>\n",
       "      <th>OTHER INCOMES</th>\n",
       "      <th>RENT</th>\n",
       "      <th>FOOD</th>\n",
       "      <th>EDUCATION</th>\n",
       "      <th>DEFAULT</th>\n",
       "    </tr>\n",
       "  </thead>\n",
       "  <tbody>\n",
       "    <tr>\n",
       "      <th>0</th>\n",
       "      <td>1</td>\n",
       "      <td>23</td>\n",
       "      <td>TRUJILLO</td>\n",
       "      <td>FEMALE</td>\n",
       "      <td>SEPARATED</td>\n",
       "      <td>12119</td>\n",
       "      <td>250</td>\n",
       "      <td>274</td>\n",
       "      <td>117</td>\n",
       "      <td>190</td>\n",
       "      <td>1</td>\n",
       "    </tr>\n",
       "    <tr>\n",
       "      <th>1</th>\n",
       "      <td>2</td>\n",
       "      <td>45</td>\n",
       "      <td>VALENCIA</td>\n",
       "      <td>FEMALE</td>\n",
       "      <td>MARIED</td>\n",
       "      <td>1610</td>\n",
       "      <td>239</td>\n",
       "      <td>641</td>\n",
       "      <td>584</td>\n",
       "      <td>403</td>\n",
       "      <td>0</td>\n",
       "    </tr>\n",
       "    <tr>\n",
       "      <th>2</th>\n",
       "      <td>3</td>\n",
       "      <td>19</td>\n",
       "      <td>MARACAIBO</td>\n",
       "      <td>FEMALE</td>\n",
       "      <td>ENGAGED</td>\n",
       "      <td>3246</td>\n",
       "      <td>364</td>\n",
       "      <td>412</td>\n",
       "      <td>556</td>\n",
       "      <td>686</td>\n",
       "      <td>1</td>\n",
       "    </tr>\n",
       "    <tr>\n",
       "      <th>3</th>\n",
       "      <td>4</td>\n",
       "      <td>20</td>\n",
       "      <td>TRUJILLO</td>\n",
       "      <td>FEMALE</td>\n",
       "      <td>WIDOWED</td>\n",
       "      <td>14962</td>\n",
       "      <td>1957</td>\n",
       "      <td>787</td>\n",
       "      <td>458</td>\n",
       "      <td>724</td>\n",
       "      <td>0</td>\n",
       "    </tr>\n",
       "    <tr>\n",
       "      <th>4</th>\n",
       "      <td>5</td>\n",
       "      <td>44</td>\n",
       "      <td>MARACAIBO</td>\n",
       "      <td>MALE</td>\n",
       "      <td>DIVORCED</td>\n",
       "      <td>16032</td>\n",
       "      <td>546</td>\n",
       "      <td>799</td>\n",
       "      <td>647</td>\n",
       "      <td>636</td>\n",
       "      <td>0</td>\n",
       "    </tr>\n",
       "  </tbody>\n",
       "</table>\n",
       "</div>"
      ],
      "text/plain": [
       "   ID  AGE       CITY  GENDER MARITAL STATUS  SALARY  OTHER INCOMES  RENT  \\\n",
       "0   1   23   TRUJILLO  FEMALE      SEPARATED   12119            250   274   \n",
       "1   2   45   VALENCIA  FEMALE         MARIED    1610            239   641   \n",
       "2   3   19  MARACAIBO  FEMALE        ENGAGED    3246            364   412   \n",
       "3   4   20   TRUJILLO  FEMALE        WIDOWED   14962           1957   787   \n",
       "4   5   44  MARACAIBO    MALE       DIVORCED   16032            546   799   \n",
       "\n",
       "   FOOD  EDUCATION  DEFAULT  \n",
       "0   117        190        1  \n",
       "1   584        403        0  \n",
       "2   556        686        1  \n",
       "3   458        724        0  \n",
       "4   647        636        0  "
      ]
     },
     "execution_count": 3,
     "metadata": {},
     "output_type": "execute_result"
    }
   ],
   "source": [
    "#HEAD\n",
    "df.head()"
   ]
  },
  {
   "cell_type": "code",
   "execution_count": 4,
   "metadata": {},
   "outputs": [
    {
     "data": {
      "text/plain": [
       "Index(['ID', 'AGE', 'CITY', 'GENDER', 'MARITAL STATUS', 'SALARY',\n",
       "       'OTHER INCOMES', 'RENT', 'FOOD', 'EDUCATION', 'DEFAULT'],\n",
       "      dtype='object')"
      ]
     },
     "execution_count": 4,
     "metadata": {},
     "output_type": "execute_result"
    }
   ],
   "source": [
    "df.columns"
   ]
  },
  {
   "cell_type": "code",
   "execution_count": 5,
   "metadata": {},
   "outputs": [
    {
     "name": "stdout",
     "output_type": "stream",
     "text": [
      "Wall time: 1min 29s\n"
     ]
    },
    {
     "data": {
      "text/plain": [
       "CITY\n",
       "BARINAS          549.850257\n",
       "BARQUISIMETO     549.857732\n",
       "CARACAS          550.155036\n",
       "CUMANA           549.703094\n",
       "MARACAIBO        550.009639\n",
       "MERIDA           550.111520\n",
       "SAN CRISTOBAL    550.006832\n",
       "TRUJILLO         549.969235\n",
       "TUCUPITA         550.052079\n",
       "VALENCIA         549.812087\n",
       "Name: RENT, dtype: float64"
      ]
     },
     "execution_count": 5,
     "metadata": {},
     "output_type": "execute_result"
    }
   ],
   "source": [
    "%%time\n",
    "df.groupby('CITY').RENT.mean()"
   ]
  },
  {
   "cell_type": "markdown",
   "metadata": {},
   "source": [
    "If we compare the reading time of pandas against Dask and against Modin, we can conclude, according to the results, that the best reading option in this case is Dask."
   ]
  },
  {
   "cell_type": "markdown",
   "metadata": {},
   "source": [
    "# 2. BASIC VALIDATION"
   ]
  },
  {
   "cell_type": "code",
   "execution_count": 6,
   "metadata": {},
   "outputs": [
    {
     "data": {
      "text/plain": [
       "Index(['ID', 'AGE', 'CITY', 'GENDER', 'MARITAL STATUS', 'SALARY',\n",
       "       'OTHER INCOMES', 'RENT', 'FOOD', 'EDUCATION', 'DEFAULT'],\n",
       "      dtype='object')"
      ]
     },
     "execution_count": 6,
     "metadata": {},
     "output_type": "execute_result"
    }
   ],
   "source": [
    "# SEE COLUMNS NAMES\n",
    "df.columns"
   ]
  },
  {
   "cell_type": "code",
   "execution_count": 7,
   "metadata": {},
   "outputs": [
    {
     "data": {
      "text/plain": [
       "Index(['ID', 'AGE', 'CITY', 'GENDER', 'MARITAL_STATUS', 'SALARY',\n",
       "       'OTHER_INCOMES', 'RENT', 'FOOD', 'EDUCATION', 'DEFAULT'],\n",
       "      dtype='object')"
      ]
     },
     "execution_count": 7,
     "metadata": {},
     "output_type": "execute_result"
    }
   ],
   "source": [
    "# REPLACE WHITE SPACE WITH \"_\"\n",
    "df.columns = df.columns.str.replace('[^\\w]','_',regex=True)\n",
    "df.columns"
   ]
  },
  {
   "cell_type": "markdown",
   "metadata": {},
   "source": [
    "# 3. YAML FILE CREATION"
   ]
  },
  {
   "cell_type": "code",
   "execution_count": 8,
   "metadata": {},
   "outputs": [
    {
     "name": "stdout",
     "output_type": "stream",
     "text": [
      "Overwriting read.py\n"
     ]
    }
   ],
   "source": [
    "%%writefile read.py\n",
    "import logging\n",
    "import os\n",
    "import subprocess\n",
    "import yaml\n",
    "import pandas as pd\n",
    "import datetime \n",
    "import gc\n",
    "import re\n",
    "\n",
    "#CREATE A SUPPORT FILE\n",
    "\n",
    "################\n",
    "# File Reading #\n",
    "################\n",
    "\n",
    "def read_yaml_file(filepath):\n",
    "    with open(filepath, 'r') as stream:\n",
    "        try:\n",
    "            return yaml.safe_load(stream)\n",
    "        except yaml.YAMLError as exc:\n",
    "            logging.error(exc)"
   ]
  },
  {
   "cell_type": "code",
   "execution_count": 9,
   "metadata": {},
   "outputs": [
    {
     "name": "stdout",
     "output_type": "stream",
     "text": [
      "Overwriting yaml_file.yaml\n"
     ]
    }
   ],
   "source": [
    "%%writefile yaml_file.yaml\n",
    "#WRITE YAML FILE\n",
    "file_type: csv\n",
    "file_name: DATA\n",
    "inbound_delimiter: \",\"\n",
    "n_row: 42000000\n",
    "n_col: 11\n",
    "columns: \n",
    "    - ID\n",
    "    - AGE\n",
    "    - CITY\n",
    "    - GENDER\n",
    "    - MARITAL STATUS\n",
    "    - SALARY\n",
    "    - OTHER INCOMES\n",
    "    - RENT\n",
    "    - FOOD\n",
    "    - EDUCATION\n",
    "    - DEFAULT"
   ]
  },
  {
   "cell_type": "code",
   "execution_count": 10,
   "metadata": {},
   "outputs": [],
   "source": [
    "#READ SUPPORT FILE AND YAML \n",
    "import read as support\n",
    "yaml_data = support.read_yaml_file(\"yaml_file.yaml\")"
   ]
  },
  {
   "cell_type": "code",
   "execution_count": 11,
   "metadata": {},
   "outputs": [
    {
     "data": {
      "text/plain": [
       "{'file_type': 'csv',\n",
       " 'file_name': 'DATA',\n",
       " 'inbound_delimiter': ',',\n",
       " 'n_row': 42000000,\n",
       " 'n_col': 11,\n",
       " 'columns': ['ID',\n",
       "  'AGE',\n",
       "  'CITY',\n",
       "  'GENDER',\n",
       "  'MARITAL STATUS',\n",
       "  'SALARY',\n",
       "  'OTHER INCOMES',\n",
       "  'RENT',\n",
       "  'FOOD',\n",
       "  'EDUCATION',\n",
       "  'DEFAULT']}"
      ]
     },
     "execution_count": 11,
     "metadata": {},
     "output_type": "execute_result"
    }
   ],
   "source": [
    "#YAML FILE\n",
    "yaml_data"
   ]
  },
  {
   "cell_type": "code",
   "execution_count": 12,
   "metadata": {},
   "outputs": [
    {
     "data": {
      "text/plain": [
       "['ID',\n",
       " 'AGE',\n",
       " 'CITY',\n",
       " 'GENDER',\n",
       " 'MARITAL STATUS',\n",
       " 'SALARY',\n",
       " 'OTHER INCOMES',\n",
       " 'RENT',\n",
       " 'FOOD',\n",
       " 'EDUCATION',\n",
       " 'DEFAULT']"
      ]
     },
     "execution_count": 12,
     "metadata": {},
     "output_type": "execute_result"
    }
   ],
   "source": [
    "#SPECIFIC INFO\n",
    "yaml_data['columns']"
   ]
  },
  {
   "cell_type": "markdown",
   "metadata": {},
   "source": [
    "# READ FILE WITH YAML"
   ]
  },
  {
   "cell_type": "code",
   "execution_count": 13,
   "metadata": {},
   "outputs": [
    {
     "name": "stdout",
     "output_type": "stream",
     "text": [
      " ./DATA.csv\n"
     ]
    }
   ],
   "source": [
    "# CREATE ROUTE\n",
    "file_type = yaml_data['file_type']\n",
    "source_file = \"./\" + yaml_data['file_name'] + f'.{file_type}'\n",
    "print(\"\",source_file)"
   ]
  },
  {
   "cell_type": "code",
   "execution_count": 15,
   "metadata": {},
   "outputs": [],
   "source": [
    "import dask.dataframe as dd"
   ]
  },
  {
   "cell_type": "code",
   "execution_count": 16,
   "metadata": {},
   "outputs": [
    {
     "name": "stdout",
     "output_type": "stream",
     "text": [
      "Wall time: 19 ms\n"
     ]
    }
   ],
   "source": [
    "%%time\n",
    "#READ FILE WITH DASK\n",
    "df = dd.read_csv(source_file,sep=yaml_data['inbound_delimiter'])"
   ]
  },
  {
   "cell_type": "code",
   "execution_count": 17,
   "metadata": {},
   "outputs": [
    {
     "data": {
      "text/html": [
       "<div>\n",
       "<style scoped>\n",
       "    .dataframe tbody tr th:only-of-type {\n",
       "        vertical-align: middle;\n",
       "    }\n",
       "\n",
       "    .dataframe tbody tr th {\n",
       "        vertical-align: top;\n",
       "    }\n",
       "\n",
       "    .dataframe thead th {\n",
       "        text-align: right;\n",
       "    }\n",
       "</style>\n",
       "<table border=\"1\" class=\"dataframe\">\n",
       "  <thead>\n",
       "    <tr style=\"text-align: right;\">\n",
       "      <th></th>\n",
       "      <th>ID</th>\n",
       "      <th>AGE</th>\n",
       "      <th>CITY</th>\n",
       "      <th>GENDER</th>\n",
       "      <th>MARITAL STATUS</th>\n",
       "      <th>SALARY</th>\n",
       "      <th>OTHER INCOMES</th>\n",
       "      <th>RENT</th>\n",
       "      <th>FOOD</th>\n",
       "      <th>EDUCATION</th>\n",
       "      <th>DEFAULT</th>\n",
       "    </tr>\n",
       "  </thead>\n",
       "  <tbody>\n",
       "    <tr>\n",
       "      <th>0</th>\n",
       "      <td>1</td>\n",
       "      <td>23</td>\n",
       "      <td>TRUJILLO</td>\n",
       "      <td>FEMALE</td>\n",
       "      <td>SEPARATED</td>\n",
       "      <td>12119</td>\n",
       "      <td>250</td>\n",
       "      <td>274</td>\n",
       "      <td>117</td>\n",
       "      <td>190</td>\n",
       "      <td>1</td>\n",
       "    </tr>\n",
       "    <tr>\n",
       "      <th>1</th>\n",
       "      <td>2</td>\n",
       "      <td>45</td>\n",
       "      <td>VALENCIA</td>\n",
       "      <td>FEMALE</td>\n",
       "      <td>MARIED</td>\n",
       "      <td>1610</td>\n",
       "      <td>239</td>\n",
       "      <td>641</td>\n",
       "      <td>584</td>\n",
       "      <td>403</td>\n",
       "      <td>0</td>\n",
       "    </tr>\n",
       "    <tr>\n",
       "      <th>2</th>\n",
       "      <td>3</td>\n",
       "      <td>19</td>\n",
       "      <td>MARACAIBO</td>\n",
       "      <td>FEMALE</td>\n",
       "      <td>ENGAGED</td>\n",
       "      <td>3246</td>\n",
       "      <td>364</td>\n",
       "      <td>412</td>\n",
       "      <td>556</td>\n",
       "      <td>686</td>\n",
       "      <td>1</td>\n",
       "    </tr>\n",
       "    <tr>\n",
       "      <th>3</th>\n",
       "      <td>4</td>\n",
       "      <td>20</td>\n",
       "      <td>TRUJILLO</td>\n",
       "      <td>FEMALE</td>\n",
       "      <td>WIDOWED</td>\n",
       "      <td>14962</td>\n",
       "      <td>1957</td>\n",
       "      <td>787</td>\n",
       "      <td>458</td>\n",
       "      <td>724</td>\n",
       "      <td>0</td>\n",
       "    </tr>\n",
       "    <tr>\n",
       "      <th>4</th>\n",
       "      <td>5</td>\n",
       "      <td>44</td>\n",
       "      <td>MARACAIBO</td>\n",
       "      <td>MALE</td>\n",
       "      <td>DIVORCED</td>\n",
       "      <td>16032</td>\n",
       "      <td>546</td>\n",
       "      <td>799</td>\n",
       "      <td>647</td>\n",
       "      <td>636</td>\n",
       "      <td>0</td>\n",
       "    </tr>\n",
       "  </tbody>\n",
       "</table>\n",
       "</div>"
      ],
      "text/plain": [
       "   ID  AGE       CITY  GENDER MARITAL STATUS  SALARY  OTHER INCOMES  RENT  \\\n",
       "0   1   23   TRUJILLO  FEMALE      SEPARATED   12119            250   274   \n",
       "1   2   45   VALENCIA  FEMALE         MARIED    1610            239   641   \n",
       "2   3   19  MARACAIBO  FEMALE        ENGAGED    3246            364   412   \n",
       "3   4   20   TRUJILLO  FEMALE        WIDOWED   14962           1957   787   \n",
       "4   5   44  MARACAIBO    MALE       DIVORCED   16032            546   799   \n",
       "\n",
       "   FOOD  EDUCATION  DEFAULT  \n",
       "0   117        190        1  \n",
       "1   584        403        0  \n",
       "2   556        686        1  \n",
       "3   458        724        0  \n",
       "4   647        636        0  "
      ]
     },
     "execution_count": 17,
     "metadata": {},
     "output_type": "execute_result"
    }
   ],
   "source": [
    "df.head()"
   ]
  },
  {
   "cell_type": "code",
   "execution_count": 18,
   "metadata": {},
   "outputs": [
    {
     "data": {
      "text/plain": [
       "(42000000, 11)"
      ]
     },
     "execution_count": 18,
     "metadata": {},
     "output_type": "execute_result"
    }
   ],
   "source": [
    "#CALCULATE NROW AND N COL\n",
    "a = df.shape\n",
    "a[0].compute(),a[1]"
   ]
  },
  {
   "cell_type": "markdown",
   "metadata": {},
   "source": [
    "# 4. VALIDATE NUMBER OF ROWS, COLUMNS AND COLUMNS NAMES WITH YAML FILE"
   ]
  },
  {
   "cell_type": "code",
   "execution_count": 19,
   "metadata": {},
   "outputs": [
    {
     "data": {
      "text/plain": [
       "(42000000, 11)"
      ]
     },
     "execution_count": 19,
     "metadata": {},
     "output_type": "execute_result"
    }
   ],
   "source": [
    "#EXPECTED ROWS AND COLUMNS\n",
    "yaml_data['n_row'],yaml_data['n_col']"
   ]
  },
  {
   "cell_type": "code",
   "execution_count": 20,
   "metadata": {},
   "outputs": [
    {
     "name": "stdout",
     "output_type": "stream",
     "text": [
      "Equal number of rows!\n"
     ]
    }
   ],
   "source": [
    "#VALIDATE NUMBER OF ROW\n",
    "if a[0].compute()==yaml_data['n_row']:\n",
    "    print(\"Equal number of rows!\")\n",
    "else:\n",
    "    print(\"Wrong number of rows\")\n",
    "    # write the code to perform further action\n",
    "    # in the pipleine"
   ]
  },
  {
   "cell_type": "code",
   "execution_count": 21,
   "metadata": {},
   "outputs": [
    {
     "name": "stdout",
     "output_type": "stream",
     "text": [
      "Equal number of columns!\n"
     ]
    }
   ],
   "source": [
    "#VALIDATE NUMBER OF COLUMNS\n",
    "if len(df.columns)==yaml_data['n_col']:\n",
    "    print(\"Equal number of columns!\")\n",
    "else:\n",
    "    print(\"Wrong number of columns\")\n",
    "    # write the code to perform further action\n",
    "    # in the pipleine"
   ]
  },
  {
   "cell_type": "code",
   "execution_count": 22,
   "metadata": {},
   "outputs": [
    {
     "name": "stdout",
     "output_type": "stream",
     "text": [
      "Names validated!\n"
     ]
    }
   ],
   "source": [
    "#VALIDATE NAMES OF DATAFRAME\n",
    "if sum(yaml_data['columns'] == df.columns) == 11:\n",
    "    print(\"Names validated!\")\n",
    "else:\n",
    "    print(\"Mismatch in columns names\")\n",
    "    # write the code to perform further action\n",
    "    # in the pipleine"
   ]
  },
  {
   "cell_type": "markdown",
   "metadata": {},
   "source": [
    "# 5. WRITE FILE IN GZ FORMAT"
   ]
  },
  {
   "cell_type": "code",
   "execution_count": 23,
   "metadata": {},
   "outputs": [
    {
     "name": "stderr",
     "output_type": "stream",
     "text": [
      "FutureWarning: pyarrow.compat has been deprecated and will be removed in a future release\n"
     ]
    }
   ],
   "source": [
    "#WRITE FILE\n",
    "df.to_parquet(os.path.join('df1.gzip'), compression='gzip')"
   ]
  },
  {
   "cell_type": "code",
   "execution_count": 24,
   "metadata": {},
   "outputs": [],
   "source": [
    "#READ THE COMPRESSED FILE\n",
    "df1 = dd.read_parquet('df1.gzip')"
   ]
  },
  {
   "cell_type": "code",
   "execution_count": 25,
   "metadata": {},
   "outputs": [
    {
     "data": {
      "text/html": [
       "<div>\n",
       "<style scoped>\n",
       "    .dataframe tbody tr th:only-of-type {\n",
       "        vertical-align: middle;\n",
       "    }\n",
       "\n",
       "    .dataframe tbody tr th {\n",
       "        vertical-align: top;\n",
       "    }\n",
       "\n",
       "    .dataframe thead th {\n",
       "        text-align: right;\n",
       "    }\n",
       "</style>\n",
       "<table border=\"1\" class=\"dataframe\">\n",
       "  <thead>\n",
       "    <tr style=\"text-align: right;\">\n",
       "      <th></th>\n",
       "      <th>ID</th>\n",
       "      <th>AGE</th>\n",
       "      <th>CITY</th>\n",
       "      <th>GENDER</th>\n",
       "      <th>MARITAL STATUS</th>\n",
       "      <th>SALARY</th>\n",
       "      <th>OTHER INCOMES</th>\n",
       "      <th>RENT</th>\n",
       "      <th>FOOD</th>\n",
       "      <th>EDUCATION</th>\n",
       "      <th>DEFAULT</th>\n",
       "    </tr>\n",
       "    <tr>\n",
       "      <th>index</th>\n",
       "      <th></th>\n",
       "      <th></th>\n",
       "      <th></th>\n",
       "      <th></th>\n",
       "      <th></th>\n",
       "      <th></th>\n",
       "      <th></th>\n",
       "      <th></th>\n",
       "      <th></th>\n",
       "      <th></th>\n",
       "      <th></th>\n",
       "    </tr>\n",
       "  </thead>\n",
       "  <tbody>\n",
       "    <tr>\n",
       "      <th>0</th>\n",
       "      <td>1</td>\n",
       "      <td>23</td>\n",
       "      <td>TRUJILLO</td>\n",
       "      <td>FEMALE</td>\n",
       "      <td>SEPARATED</td>\n",
       "      <td>12119</td>\n",
       "      <td>250</td>\n",
       "      <td>274</td>\n",
       "      <td>117</td>\n",
       "      <td>190</td>\n",
       "      <td>1</td>\n",
       "    </tr>\n",
       "    <tr>\n",
       "      <th>1</th>\n",
       "      <td>2</td>\n",
       "      <td>45</td>\n",
       "      <td>VALENCIA</td>\n",
       "      <td>FEMALE</td>\n",
       "      <td>MARIED</td>\n",
       "      <td>1610</td>\n",
       "      <td>239</td>\n",
       "      <td>641</td>\n",
       "      <td>584</td>\n",
       "      <td>403</td>\n",
       "      <td>0</td>\n",
       "    </tr>\n",
       "    <tr>\n",
       "      <th>2</th>\n",
       "      <td>3</td>\n",
       "      <td>19</td>\n",
       "      <td>MARACAIBO</td>\n",
       "      <td>FEMALE</td>\n",
       "      <td>ENGAGED</td>\n",
       "      <td>3246</td>\n",
       "      <td>364</td>\n",
       "      <td>412</td>\n",
       "      <td>556</td>\n",
       "      <td>686</td>\n",
       "      <td>1</td>\n",
       "    </tr>\n",
       "    <tr>\n",
       "      <th>3</th>\n",
       "      <td>4</td>\n",
       "      <td>20</td>\n",
       "      <td>TRUJILLO</td>\n",
       "      <td>FEMALE</td>\n",
       "      <td>WIDOWED</td>\n",
       "      <td>14962</td>\n",
       "      <td>1957</td>\n",
       "      <td>787</td>\n",
       "      <td>458</td>\n",
       "      <td>724</td>\n",
       "      <td>0</td>\n",
       "    </tr>\n",
       "    <tr>\n",
       "      <th>4</th>\n",
       "      <td>5</td>\n",
       "      <td>44</td>\n",
       "      <td>MARACAIBO</td>\n",
       "      <td>MALE</td>\n",
       "      <td>DIVORCED</td>\n",
       "      <td>16032</td>\n",
       "      <td>546</td>\n",
       "      <td>799</td>\n",
       "      <td>647</td>\n",
       "      <td>636</td>\n",
       "      <td>0</td>\n",
       "    </tr>\n",
       "  </tbody>\n",
       "</table>\n",
       "</div>"
      ],
      "text/plain": [
       "       ID  AGE       CITY  GENDER MARITAL STATUS  SALARY  OTHER INCOMES  RENT  \\\n",
       "index                                                                           \n",
       "0       1   23   TRUJILLO  FEMALE      SEPARATED   12119            250   274   \n",
       "1       2   45   VALENCIA  FEMALE         MARIED    1610            239   641   \n",
       "2       3   19  MARACAIBO  FEMALE        ENGAGED    3246            364   412   \n",
       "3       4   20   TRUJILLO  FEMALE        WIDOWED   14962           1957   787   \n",
       "4       5   44  MARACAIBO    MALE       DIVORCED   16032            546   799   \n",
       "\n",
       "       FOOD  EDUCATION  DEFAULT  \n",
       "index                            \n",
       "0       117        190        1  \n",
       "1       584        403        0  \n",
       "2       556        686        1  \n",
       "3       458        724        0  \n",
       "4       647        636        0  "
      ]
     },
     "execution_count": 25,
     "metadata": {},
     "output_type": "execute_result"
    }
   ],
   "source": [
    "df1.head()"
   ]
  },
  {
   "cell_type": "markdown",
   "metadata": {},
   "source": [
    "# 6. SUMMARY OF THE FILE"
   ]
  },
  {
   "cell_type": "code",
   "execution_count": 26,
   "metadata": {},
   "outputs": [
    {
     "data": {
      "text/plain": [
       "42000000"
      ]
     },
     "execution_count": 26,
     "metadata": {},
     "output_type": "execute_result"
    }
   ],
   "source": [
    "#SUMMARY \n",
    "#N ROWS\n",
    "a[0].compute()"
   ]
  },
  {
   "cell_type": "code",
   "execution_count": 27,
   "metadata": {},
   "outputs": [
    {
     "data": {
      "text/plain": [
       "11"
      ]
     },
     "execution_count": 27,
     "metadata": {},
     "output_type": "execute_result"
    }
   ],
   "source": [
    "#N COL\n",
    "a[1]"
   ]
  },
  {
   "cell_type": "code",
   "execution_count": 28,
   "metadata": {},
   "outputs": [
    {
     "data": {
      "text/plain": [
       "2803003497"
      ]
     },
     "execution_count": 28,
     "metadata": {},
     "output_type": "execute_result"
    }
   ],
   "source": [
    "#TOTAL SIZE\n",
    "#NORMAL DATA\n",
    "from pathlib import Path\n",
    "Path('DATA.csv').stat().st_size #BYTES - 10.000.000 BYTES = 10 MB"
   ]
  },
  {
   "cell_type": "code",
   "execution_count": 29,
   "metadata": {},
   "outputs": [],
   "source": [
    "import os\n",
    "\n",
    "#FUNCTION THAT CALCULATE TOTAL SIZE IN BYTES OF THE COMPRESSED FOLDER\n",
    "def get_size(start_path = '.'):\n",
    "    total_size = 0\n",
    "    for dirpath, dirnames, filenames in os.walk(start_path):\n",
    "        for f in filenames:\n",
    "            fp = os.path.join(dirpath, f)\n",
    "            # skip if it is symbolic link\n",
    "            if not os.path.islink(fp):\n",
    "                total_size += os.path.getsize(fp)\n",
    "\n",
    "    return total_size"
   ]
  },
  {
   "cell_type": "code",
   "execution_count": 30,
   "metadata": {},
   "outputs": [
    {
     "name": "stdout",
     "output_type": "stream",
     "text": [
      "527055579 bytes\n"
     ]
    }
   ],
   "source": [
    "print(get_size('df1.gzip'), 'bytes')"
   ]
  },
  {
   "cell_type": "markdown",
   "metadata": {},
   "source": [
    "We can see that the complete data according to the pytho function weighs 2.8 GB, on the other hand when compressing this file its weight is 527 MB."
   ]
  }
 ],
 "metadata": {
  "kernelspec": {
   "display_name": "Python 3",
   "language": "python",
   "name": "python3"
  },
  "language_info": {
   "codemirror_mode": {
    "name": "ipython",
    "version": 3
   },
   "file_extension": ".py",
   "mimetype": "text/x-python",
   "name": "python",
   "nbconvert_exporter": "python",
   "pygments_lexer": "ipython3",
   "version": "3.7.4"
  }
 },
 "nbformat": 4,
 "nbformat_minor": 2
}
