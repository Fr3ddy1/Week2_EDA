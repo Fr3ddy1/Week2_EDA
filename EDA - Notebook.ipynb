{
 "cells": [
  {
   "cell_type": "code",
   "execution_count": 1,
   "metadata": {},
   "outputs": [],
   "source": [
    "#ANALISIS DATA GLACIER \n",
    "#ACTIVIDAD G2M CAB COMPANIES\n",
    "setwd(\"~/Data_Glacier/repos/DataSets\")\n",
    "\n",
    "#CARGO DATA\n",
    "cab <- read.csv(\"~/Data_Glacier/repos/DataSets/Cab_data.txt\")\n",
    "cab1 <- read.csv(\"~/Data_Glacier/repos/DataSets/Cab_Data.csv\")\n",
    "city <- read.csv(\"~/Data_Glacier/repos/DataSets/City.csv\")\n",
    "customer <- read.csv(\"~/Data_Glacier/repos/DataSets/Customer_ID.csv\")\n",
    "transaction <- read.csv(\"~/Data_Glacier/repos/DataSets/Transaction_ID.csv\")\n"
   ]
  },
  {
   "cell_type": "code",
   "execution_count": 2,
   "metadata": {},
   "outputs": [
    {
     "data": {
      "text/html": [
       "<table>\n",
       "<thead><tr><th scope=col>Transaction.ID</th><th scope=col>Date.of.Travel</th><th scope=col>Company</th><th scope=col>City</th><th scope=col>KM.Travelled</th><th scope=col>Price.Charged</th><th scope=col>Cost.of.Trip</th></tr></thead>\n",
       "<tbody>\n",
       "\t<tr><td>10000011  </td><td>42377     </td><td>Pink Cab  </td><td>ATLANTA GA</td><td>30.45     </td><td>370.95    </td><td>313.635   </td></tr>\n",
       "\t<tr><td>10000012  </td><td>42375     </td><td>Pink Cab  </td><td>ATLANTA GA</td><td>28.62     </td><td>358.52    </td><td>334.854   </td></tr>\n",
       "\t<tr><td>10000013  </td><td>42371     </td><td>Pink Cab  </td><td>ATLANTA GA</td><td> 9.04     </td><td>125.20    </td><td> 97.632   </td></tr>\n",
       "\t<tr><td>10000014  </td><td>42376     </td><td>Pink Cab  </td><td>ATLANTA GA</td><td>33.17     </td><td>377.40    </td><td>351.602   </td></tr>\n",
       "\t<tr><td>10000015  </td><td>42372     </td><td>Pink Cab  </td><td>ATLANTA GA</td><td> 8.73     </td><td>114.62    </td><td> 97.776   </td></tr>\n",
       "\t<tr><td>10000016  </td><td>42376     </td><td>Pink Cab  </td><td>ATLANTA GA</td><td> 6.06     </td><td> 72.43    </td><td> 63.024   </td></tr>\n",
       "</tbody>\n",
       "</table>\n"
      ],
      "text/latex": [
       "\\begin{tabular}{r|lllllll}\n",
       " Transaction.ID & Date.of.Travel & Company & City & KM.Travelled & Price.Charged & Cost.of.Trip\\\\\n",
       "\\hline\n",
       "\t 10000011   & 42377      & Pink Cab   & ATLANTA GA & 30.45      & 370.95     & 313.635   \\\\\n",
       "\t 10000012   & 42375      & Pink Cab   & ATLANTA GA & 28.62      & 358.52     & 334.854   \\\\\n",
       "\t 10000013   & 42371      & Pink Cab   & ATLANTA GA &  9.04      & 125.20     &  97.632   \\\\\n",
       "\t 10000014   & 42376      & Pink Cab   & ATLANTA GA & 33.17      & 377.40     & 351.602   \\\\\n",
       "\t 10000015   & 42372      & Pink Cab   & ATLANTA GA &  8.73      & 114.62     &  97.776   \\\\\n",
       "\t 10000016   & 42376      & Pink Cab   & ATLANTA GA &  6.06      &  72.43     &  63.024   \\\\\n",
       "\\end{tabular}\n"
      ],
      "text/markdown": [
       "\n",
       "| Transaction.ID | Date.of.Travel | Company | City | KM.Travelled | Price.Charged | Cost.of.Trip |\n",
       "|---|---|---|---|---|---|---|\n",
       "| 10000011   | 42377      | Pink Cab   | ATLANTA GA | 30.45      | 370.95     | 313.635    |\n",
       "| 10000012   | 42375      | Pink Cab   | ATLANTA GA | 28.62      | 358.52     | 334.854    |\n",
       "| 10000013   | 42371      | Pink Cab   | ATLANTA GA |  9.04      | 125.20     |  97.632    |\n",
       "| 10000014   | 42376      | Pink Cab   | ATLANTA GA | 33.17      | 377.40     | 351.602    |\n",
       "| 10000015   | 42372      | Pink Cab   | ATLANTA GA |  8.73      | 114.62     |  97.776    |\n",
       "| 10000016   | 42376      | Pink Cab   | ATLANTA GA |  6.06      |  72.43     |  63.024    |\n",
       "\n"
      ],
      "text/plain": [
       "  Transaction.ID Date.of.Travel Company  City       KM.Travelled Price.Charged\n",
       "1 10000011       42377          Pink Cab ATLANTA GA 30.45        370.95       \n",
       "2 10000012       42375          Pink Cab ATLANTA GA 28.62        358.52       \n",
       "3 10000013       42371          Pink Cab ATLANTA GA  9.04        125.20       \n",
       "4 10000014       42376          Pink Cab ATLANTA GA 33.17        377.40       \n",
       "5 10000015       42372          Pink Cab ATLANTA GA  8.73        114.62       \n",
       "6 10000016       42376          Pink Cab ATLANTA GA  6.06         72.43       \n",
       "  Cost.of.Trip\n",
       "1 313.635     \n",
       "2 334.854     \n",
       "3  97.632     \n",
       "4 351.602     \n",
       "5  97.776     \n",
       "6  63.024     "
      ]
     },
     "metadata": {},
     "output_type": "display_data"
    }
   ],
   "source": [
    "head(cab)"
   ]
  },
  {
   "cell_type": "code",
   "execution_count": null,
   "metadata": {},
   "outputs": [],
   "source": []
  }
 ],
 "metadata": {
  "kernelspec": {
   "display_name": "R",
   "language": "R",
   "name": "ir"
  },
  "language_info": {
   "codemirror_mode": "r",
   "file_extension": ".r",
   "mimetype": "text/x-r-source",
   "name": "R",
   "pygments_lexer": "r",
   "version": "3.6.1"
  }
 },
 "nbformat": 4,
 "nbformat_minor": 2
}
